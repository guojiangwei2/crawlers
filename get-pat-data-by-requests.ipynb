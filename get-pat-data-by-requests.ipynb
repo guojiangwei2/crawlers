{
 "cells": [
  {
   "cell_type": "code",
   "execution_count": 1,
   "metadata": {
    "collapsed": true
   },
   "outputs": [],
   "source": [
    "import requests\n",
    "import json"
   ]
  },
  {
   "cell_type": "code",
   "execution_count": 2,
   "metadata": {
    "collapsed": true
   },
   "outputs": [],
   "source": [
    "from bs4 import BeautifulSoup"
   ]
  },
  {
   "cell_type": "code",
   "execution_count": 3,
   "metadata": {
    "collapsed": false
   },
   "outputs": [],
   "source": [
    "payload = {\"requestModule\":\"PatentSearch\",\"userId\":\"587D23BB-3852-43A2-A44C-E606F22626E9\",\"patentSearchConfig\":{\"Query\":\"平安银行 and ADY=2014\",\"TreeQuery\":\"\",\"Database\":\"fmsq,wgzl,syxx,fmzl\",\"Action\":\"Search\",\"DBOnly\":0,\"Page\":\"1\",\"PageSize\":\"10\",\"GUID\":\"\",\"Sortby\":\"-IDX,PNM\",\"AddOnes\":\"\",\"DelOnes\":\"\",\"RemoveOnes\":\"\",\"Verification\":\"\",\"SmartSearch\":\"\",\"TrsField\":\"\"}}"
   ]
  },
  {
   "cell_type": "code",
   "execution_count": 4,
   "metadata": {
    "collapsed": false
   },
   "outputs": [],
   "source": [
    "headers = {\"Accept\":\"application/json, text/javascript, */*; q=0.01\",\n",
    "\"Accept-Encoding\":\"gzip, deflate\",\n",
    "\"Accept-Language\":\"zh-CN,zh;q=0.8\",\n",
    "\"Connection\":\"keep-alive\",\n",
    "\"Content-Length\":\"366\",\n",
    "\"Content-Type\":\"application/json\",\n",
    "\"Cookie\":\"JSESSIONID=vb87dm46litr1at8rltyl0l5h; Hm_lvt_9ebd156ac7d2304301a6a7f0434e8257=1488609334; Hm_lpvt_9ebd156ac7d2304301a6a7f0434e8257=1488685121\",\n",
    "\"Host\":\"www.innojoy.com\",\n",
    "\"Origin\":\"http://www.innojoy.com\",\n",
    "\"Referer\":\"http://www.innojoy.com/searchresult/default.html\",\n",
    "\"User-Agent\":\"Mozilla/5.0 (Windows NT 10.0; WOW64) AppleWebKit/537.36 (KHTML, like Gecko) Chrome/56.0.2924.87 Safari/537.36\",\n",
    "\"X-Requested-With\":\"XMLHttpRequest\"}"
   ]
  },
  {
   "cell_type": "code",
   "execution_count": 5,
   "metadata": {
    "collapsed": false
   },
   "outputs": [],
   "source": [
    "r = requests.post('http://www.innojoy.com/client/interface.aspx', data=json.dumps(payload), headers=headers)"
   ]
  },
  {
   "cell_type": "code",
   "execution_count": 6,
   "metadata": {
    "collapsed": false
   },
   "outputs": [
    {
     "data": {
      "text/plain": [
       "{'Access-Control-Allow-Origin': 'http://www.innojoy.com', 'Content-Type': 'application/json;charset=UTF-8', 'Transfer-Encoding': 'chunked', 'Server': 'Jetty(9.2.2.v20140723)'}"
      ]
     },
     "execution_count": 6,
     "metadata": {},
     "output_type": "execute_result"
    }
   ],
   "source": [
    "r.headers"
   ]
  },
  {
   "cell_type": "code",
   "execution_count": 16,
   "metadata": {
    "collapsed": false
   },
   "outputs": [],
   "source": [
    "res = r.json()"
   ]
  },
  {
   "cell_type": "code",
   "execution_count": 17,
   "metadata": {
    "collapsed": false
   },
   "outputs": [
    {
     "data": {
      "text/plain": [
       "dict_keys(['ReturnValue', 'Option', 'delete_file_day', 'page', 'total', 'records', 'IsGetCheckPic'])"
      ]
     },
     "execution_count": 17,
     "metadata": {},
     "output_type": "execute_result"
    }
   ],
   "source": [
    "res.keys()"
   ]
  },
  {
   "cell_type": "code",
   "execution_count": 28,
   "metadata": {
    "collapsed": false
   },
   "outputs": [
    {
     "data": {
      "text/plain": [
       "[{'Count': 0,\n",
       "  'Database': 'fmzl',\n",
       "  'DbName': '中国发明专利',\n",
       "  'Display': False,\n",
       "  'Group': 0,\n",
       "  'Sort': 1},\n",
       " {'Count': 13,\n",
       "  'Database': 'syxx',\n",
       "  'DbName': '中国实用新型',\n",
       "  'Display': False,\n",
       "  'Group': 0,\n",
       "  'Sort': 2},\n",
       " {'Count': 0,\n",
       "  'Database': 'wgzl',\n",
       "  'DbName': '中国外观专利',\n",
       "  'Display': False,\n",
       "  'Group': 0,\n",
       "  'Sort': 3},\n",
       " {'Count': 0,\n",
       "  'Database': 'fmsq',\n",
       "  'DbName': '中国发明授权',\n",
       "  'Display': False,\n",
       "  'Group': 0,\n",
       "  'Sort': 4}]"
      ]
     },
     "execution_count": 28,
     "metadata": {},
     "output_type": "execute_result"
    }
   ],
   "source": [
    "res['Option']['ResultSection']"
   ]
  },
  {
   "cell_type": "markdown",
   "metadata": {},
   "source": [
    "# 静态加载方法测试"
   ]
  },
  {
   "cell_type": "code",
   "execution_count": 44,
   "metadata": {
    "collapsed": true
   },
   "outputs": [],
   "source": [
    "urls = \"http://www.innojoy.com/searchresult/default.html\"\n",
    "query = \"平安银行 and ADY=2014\""
   ]
  },
  {
   "cell_type": "code",
   "execution_count": 45,
   "metadata": {
    "collapsed": true
   },
   "outputs": [],
   "source": [
    "r = requests.get(url=urls, params={'query': query})"
   ]
  },
  {
   "cell_type": "code",
   "execution_count": 47,
   "metadata": {
    "collapsed": false
   },
   "outputs": [],
   "source": [
    "soup = BeautifulSoup(r.text, 'lxml')"
   ]
  },
  {
   "cell_type": "code",
   "execution_count": 48,
   "metadata": {
    "collapsed": false
   },
   "outputs": [
    {
     "data": {
      "text/plain": [
       "[<div id=\"PAT\">\n",
       " <ul>\n",
       " </ul>\n",
       " </div>]"
      ]
     },
     "execution_count": 48,
     "metadata": {},
     "output_type": "execute_result"
    }
   ],
   "source": [
    "soup.find_all('div', id='PAT')"
   ]
  },
  {
   "cell_type": "markdown",
   "metadata": {},
   "source": [
    "* 静态网页加载不到任何内容"
   ]
  },
  {
   "cell_type": "code",
   "execution_count": null,
   "metadata": {
    "collapsed": true
   },
   "outputs": [],
   "source": []
  }
 ],
 "metadata": {
  "kernelspec": {
   "display_name": "Python 3",
   "language": "python",
   "name": "python3"
  },
  "language_info": {
   "codemirror_mode": {
    "name": "ipython",
    "version": 3
   },
   "file_extension": ".py",
   "mimetype": "text/x-python",
   "name": "python",
   "nbconvert_exporter": "python",
   "pygments_lexer": "ipython3",
   "version": "3.6.0"
  }
 },
 "nbformat": 4,
 "nbformat_minor": 2
}
