{
 "cells": [
  {
   "cell_type": "code",
   "execution_count": 1,
   "metadata": {
    "collapsed": true
   },
   "outputs": [],
   "source": [
    "import requests\n",
    "import json"
   ]
  },
  {
   "cell_type": "code",
   "execution_count": 2,
   "metadata": {
    "collapsed": true
   },
   "outputs": [],
   "source": [
    "from bs4 import BeautifulSoup"
   ]
  },
  {
   "cell_type": "code",
   "execution_count": 3,
   "metadata": {
    "collapsed": false
   },
   "outputs": [],
   "source": [
    "payload = {\"requestModule\":\"PatentSearch\",\"userId\":\"587D23BB-3852-43A2-A44C-E606F22626E9\",\"patentSearchConfig\":{\"Query\":\"平安银行 and ADY=2014\",\"TreeQuery\":\"\",\"Database\":\"fmsq,wgzl,syxx,fmzl\",\"Action\":\"Search\",\"DBOnly\":0,\"Page\":\"1\",\"PageSize\":\"10\",\"GUID\":\"\",\"Sortby\":\"-IDX,PNM\",\"AddOnes\":\"\",\"DelOnes\":\"\",\"RemoveOnes\":\"\",\"Verification\":\"\",\"SmartSearch\":\"\",\"TrsField\":\"\"}}"
   ]
  },
  {
   "cell_type": "code",
   "execution_count": 15,
   "metadata": {
    "collapsed": false
   },
   "outputs": [
    {
     "data": {
      "text/plain": [
       "{'patentSearchConfig': {'Action': 'Search',\n",
       "  'AddOnes': '',\n",
       "  'DBOnly': 0,\n",
       "  'Database': 'fmsq,wgzl,syxx,fmzl',\n",
       "  'DelOnes': '',\n",
       "  'GUID': '',\n",
       "  'Page': '1',\n",
       "  'PageSize': '10',\n",
       "  'Query': '\\xe5\\xb9\\xb3\\xe5\\xae\\x89\\xe9\\x93\\xb6\\xe8\\xa1\\x8c and ADY=2014',\n",
       "  'RemoveOnes': '',\n",
       "  'SmartSearch': '',\n",
       "  'Sortby': '-IDX,PNM',\n",
       "  'TreeQuery': '',\n",
       "  'TrsField': '',\n",
       "  'Verification': ''},\n",
       " 'requestModule': 'PatentSearch',\n",
       " 'userId': '587D23BB-3852-43A2-A44C-E606F22626E9'}"
      ]
     },
     "execution_count": 15,
     "metadata": {},
     "output_type": "execute_result"
    }
   ],
   "source": [
    "payload"
   ]
  },
  {
   "cell_type": "code",
   "execution_count": 4,
   "metadata": {
    "collapsed": false
   },
   "outputs": [],
   "source": [
    "headers = {\"Accept\":\"application/json, text/javascript, */*; q=0.01\",\n",
    "\"Accept-Encoding\":\"gzip, deflate\",\n",
    "\"Accept-Language\":\"zh-CN,zh;q=0.8\",\n",
    "\"Connection\":\"keep-alive\",\n",
    "\"Content-Length\":\"366\",\n",
    "\"Content-Type\":\"application/json\",\n",
    "\"Cookie\":\"JSESSIONID=vb87dm46litr1at8rltyl0l5h; Hm_lvt_9ebd156ac7d2304301a6a7f0434e8257=1488609334; Hm_lpvt_9ebd156ac7d2304301a6a7f0434e8257=1488685121\",\n",
    "\"Host\":\"www.innojoy.com\",\n",
    "\"Origin\":\"http://www.innojoy.com\",\n",
    "\"Referer\":\"http://www.innojoy.com/searchresult/default.html\",\n",
    "\"User-Agent\":\"Mozilla/5.0 (Windows NT 10.0; WOW64) AppleWebKit/537.36 (KHTML, like Gecko) Chrome/56.0.2924.87 Safari/537.36\",\n",
    "\"X-Requested-With\":\"XMLHttpRequest\"}"
   ]
  },
  {
   "cell_type": "code",
   "execution_count": 16,
   "metadata": {
    "collapsed": false
   },
   "outputs": [
    {
     "data": {
      "text/plain": [
       "{'Accept': 'application/json, text/javascript, */*; q=0.01',\n",
       " 'Accept-Encoding': 'gzip, deflate',\n",
       " 'Accept-Language': 'zh-CN,zh;q=0.8',\n",
       " 'Connection': 'keep-alive',\n",
       " 'Content-Length': '366',\n",
       " 'Content-Type': 'application/json',\n",
       " 'Cookie': 'JSESSIONID=vb87dm46litr1at8rltyl0l5h; Hm_lvt_9ebd156ac7d2304301a6a7f0434e8257=1488609334; Hm_lpvt_9ebd156ac7d2304301a6a7f0434e8257=1488685121',\n",
       " 'Host': 'www.innojoy.com',\n",
       " 'Origin': 'http://www.innojoy.com',\n",
       " 'Referer': 'http://www.innojoy.com/searchresult/default.html',\n",
       " 'User-Agent': 'Mozilla/5.0 (Windows NT 10.0; WOW64) AppleWebKit/537.36 (KHTML, like Gecko) Chrome/56.0.2924.87 Safari/537.36',\n",
       " 'X-Requested-With': 'XMLHttpRequest'}"
      ]
     },
     "execution_count": 16,
     "metadata": {},
     "output_type": "execute_result"
    }
   ],
   "source": [
    "headers"
   ]
  },
  {
   "cell_type": "code",
   "execution_count": 5,
   "metadata": {
    "collapsed": false
   },
   "outputs": [],
   "source": [
    "r = requests.post('http://www.innojoy.com/client/interface.aspx', data=json.dumps(payload), headers=headers)"
   ]
  },
  {
   "cell_type": "code",
   "execution_count": 6,
   "metadata": {
    "collapsed": false
   },
   "outputs": [
    {
     "data": {
      "text/plain": [
       "{'Transfer-Encoding': 'chunked', 'Access-Control-Allow-Origin': 'http://www.innojoy.com', 'Content-Type': 'application/json;charset=UTF-8', 'Server': 'Jetty(9.2.2.v20140723)'}"
      ]
     },
     "execution_count": 6,
     "metadata": {},
     "output_type": "execute_result"
    }
   ],
   "source": [
    "r.headers"
   ]
  },
  {
   "cell_type": "code",
   "execution_count": 7,
   "metadata": {
    "collapsed": false
   },
   "outputs": [],
   "source": [
    "res = r.json()"
   ]
  },
  {
   "cell_type": "code",
   "execution_count": 8,
   "metadata": {
    "collapsed": false
   },
   "outputs": [
    {
     "data": {
      "text/plain": [
       "[u'Option',\n",
       " u'delete_file_day',\n",
       " u'records',\n",
       " u'ReturnValue',\n",
       " u'IsGetCheckPic',\n",
       " u'total',\n",
       " u'page']"
      ]
     },
     "execution_count": 8,
     "metadata": {},
     "output_type": "execute_result"
    }
   ],
   "source": [
    "res.keys()"
   ]
  },
  {
   "cell_type": "code",
   "execution_count": 10,
   "metadata": {
    "collapsed": true
   },
   "outputs": [],
   "source": [
    "import pandas as pd"
   ]
  },
  {
   "cell_type": "code",
   "execution_count": 21,
   "metadata": {
    "collapsed": false
   },
   "outputs": [],
   "source": [
    "df = pd.DataFrame.from_dict(res['Option']['ResultSection'])"
   ]
  },
  {
   "cell_type": "code",
   "execution_count": 28,
   "metadata": {
    "collapsed": false
   },
   "outputs": [
    {
     "data": {
      "text/plain": [
       "[{u'Count': 0,\n",
       "  u'Database': u'fmzl',\n",
       "  u'DbName': u'\\u4e2d\\u56fd\\u53d1\\u660e\\u4e13\\u5229',\n",
       "  u'Display': False,\n",
       "  u'Group': 0,\n",
       "  u'Sort': 1},\n",
       " {u'Count': 13,\n",
       "  u'Database': u'syxx',\n",
       "  u'DbName': u'\\u4e2d\\u56fd\\u5b9e\\u7528\\u65b0\\u578b',\n",
       "  u'Display': False,\n",
       "  u'Group': 0,\n",
       "  u'Sort': 2},\n",
       " {u'Count': 0,\n",
       "  u'Database': u'wgzl',\n",
       "  u'DbName': u'\\u4e2d\\u56fd\\u5916\\u89c2\\u4e13\\u5229',\n",
       "  u'Display': False,\n",
       "  u'Group': 0,\n",
       "  u'Sort': 3},\n",
       " {u'Count': 0,\n",
       "  u'Database': u'fmsq',\n",
       "  u'DbName': u'\\u4e2d\\u56fd\\u53d1\\u660e\\u6388\\u6743',\n",
       "  u'Display': False,\n",
       "  u'Group': 0,\n",
       "  u'Sort': 4}]"
      ]
     },
     "execution_count": 28,
     "metadata": {},
     "output_type": "execute_result"
    }
   ],
   "source": [
    "res['Option']['ResultSection']"
   ]
  },
  {
   "cell_type": "code",
   "execution_count": 31,
   "metadata": {
    "collapsed": false
   },
   "outputs": [
    {
     "data": {
      "text/html": [
       "<div>\n",
       "<table border=\"1\" class=\"dataframe\">\n",
       "  <thead>\n",
       "    <tr style=\"text-align: right;\">\n",
       "      <th></th>\n",
       "      <th>Count</th>\n",
       "      <th>Database</th>\n",
       "      <th>DbName</th>\n",
       "      <th>Display</th>\n",
       "      <th>Group</th>\n",
       "      <th>Sort</th>\n",
       "      <th>year</th>\n",
       "      <th>stknm</th>\n",
       "    </tr>\n",
       "  </thead>\n",
       "  <tbody>\n",
       "    <tr>\n",
       "      <th>0</th>\n",
       "      <td>0</td>\n",
       "      <td>fmzl</td>\n",
       "      <td>中国发明专利</td>\n",
       "      <td>False</td>\n",
       "      <td>0</td>\n",
       "      <td>1</td>\n",
       "      <td>2014</td>\n",
       "      <td>payh</td>\n",
       "    </tr>\n",
       "    <tr>\n",
       "      <th>1</th>\n",
       "      <td>13</td>\n",
       "      <td>syxx</td>\n",
       "      <td>中国实用新型</td>\n",
       "      <td>False</td>\n",
       "      <td>0</td>\n",
       "      <td>2</td>\n",
       "      <td>2014</td>\n",
       "      <td>payh</td>\n",
       "    </tr>\n",
       "    <tr>\n",
       "      <th>2</th>\n",
       "      <td>0</td>\n",
       "      <td>wgzl</td>\n",
       "      <td>中国外观专利</td>\n",
       "      <td>False</td>\n",
       "      <td>0</td>\n",
       "      <td>3</td>\n",
       "      <td>2014</td>\n",
       "      <td>payh</td>\n",
       "    </tr>\n",
       "    <tr>\n",
       "      <th>3</th>\n",
       "      <td>0</td>\n",
       "      <td>fmsq</td>\n",
       "      <td>中国发明授权</td>\n",
       "      <td>False</td>\n",
       "      <td>0</td>\n",
       "      <td>4</td>\n",
       "      <td>2014</td>\n",
       "      <td>payh</td>\n",
       "    </tr>\n",
       "  </tbody>\n",
       "</table>\n",
       "</div>"
      ],
      "text/plain": [
       "   Count Database  DbName Display  Group  Sort  year stknm\n",
       "0      0     fmzl  中国发明专利   False      0     1  2014  payh\n",
       "1     13     syxx  中国实用新型   False      0     2  2014  payh\n",
       "2      0     wgzl  中国外观专利   False      0     3  2014  payh\n",
       "3      0     fmsq  中国发明授权   False      0     4  2014  payh"
      ]
     },
     "execution_count": 31,
     "metadata": {},
     "output_type": "execute_result"
    }
   ],
   "source": [
    "df.assign(year=2014).assign(stknm='payh')"
   ]
  },
  {
   "cell_type": "code",
   "execution_count": 29,
   "metadata": {
    "collapsed": false
   },
   "outputs": [
    {
     "data": {
      "text/html": [
       "<div>\n",
       "<table border=\"1\" class=\"dataframe\">\n",
       "  <thead>\n",
       "    <tr style=\"text-align: right;\">\n",
       "      <th>Database</th>\n",
       "      <th>fmzl</th>\n",
       "      <th>syxx</th>\n",
       "      <th>wgzl</th>\n",
       "      <th>fmsq</th>\n",
       "    </tr>\n",
       "  </thead>\n",
       "  <tbody>\n",
       "    <tr>\n",
       "      <th>Count</th>\n",
       "      <td>0</td>\n",
       "      <td>13</td>\n",
       "      <td>0</td>\n",
       "      <td>0</td>\n",
       "    </tr>\n",
       "  </tbody>\n",
       "</table>\n",
       "</div>"
      ],
      "text/plain": [
       "Database  fmzl  syxx  wgzl  fmsq\n",
       "Count        0    13     0     0"
      ]
     },
     "execution_count": 29,
     "metadata": {},
     "output_type": "execute_result"
    }
   ],
   "source": [
    "df.loc[:, ['Database', 'Count']].set_index('Database').T"
   ]
  },
  {
   "cell_type": "markdown",
   "metadata": {},
   "source": [
    "# 静态加载方法测试"
   ]
  },
  {
   "cell_type": "code",
   "execution_count": 44,
   "metadata": {
    "collapsed": true
   },
   "outputs": [],
   "source": [
    "urls = \"http://www.innojoy.com/searchresult/default.html\"\n",
    "query = \"平安银行 and ADY=2014\""
   ]
  },
  {
   "cell_type": "code",
   "execution_count": 45,
   "metadata": {
    "collapsed": true
   },
   "outputs": [],
   "source": [
    "r = requests.get(url=urls, params={'query': query})"
   ]
  },
  {
   "cell_type": "code",
   "execution_count": 47,
   "metadata": {
    "collapsed": false
   },
   "outputs": [],
   "source": [
    "soup = BeautifulSoup(r.text, 'lxml')"
   ]
  },
  {
   "cell_type": "code",
   "execution_count": 48,
   "metadata": {
    "collapsed": false
   },
   "outputs": [
    {
     "data": {
      "text/plain": [
       "[<div id=\"PAT\">\n",
       " <ul>\n",
       " </ul>\n",
       " </div>]"
      ]
     },
     "execution_count": 48,
     "metadata": {},
     "output_type": "execute_result"
    }
   ],
   "source": [
    "soup.find_all('div', id='PAT')"
   ]
  },
  {
   "cell_type": "markdown",
   "metadata": {},
   "source": [
    "* 静态网页加载不到任何内容"
   ]
  },
  {
   "cell_type": "markdown",
   "metadata": {
    "collapsed": true
   },
   "source": [
    "## 检验爬虫结果"
   ]
  },
  {
   "cell_type": "code",
   "execution_count": 32,
   "metadata": {
    "collapsed": true
   },
   "outputs": [],
   "source": [
    "import cPickle"
   ]
  },
  {
   "cell_type": "code",
   "execution_count": 33,
   "metadata": {
    "collapsed": true
   },
   "outputs": [],
   "source": [
    "df_lst = cPickle.load(open('stk_innojoy_res.pickle', 'r'))"
   ]
  },
  {
   "cell_type": "code",
   "execution_count": 34,
   "metadata": {
    "collapsed": false
   },
   "outputs": [
    {
     "data": {
      "text/html": [
       "<div>\n",
       "<table border=\"1\" class=\"dataframe\">\n",
       "  <thead>\n",
       "    <tr style=\"text-align: right;\">\n",
       "      <th></th>\n",
       "      <th>Count</th>\n",
       "      <th>Database</th>\n",
       "      <th>DbName</th>\n",
       "      <th>Display</th>\n",
       "      <th>Group</th>\n",
       "      <th>Sort</th>\n",
       "      <th>stknm</th>\n",
       "      <th>year</th>\n",
       "    </tr>\n",
       "  </thead>\n",
       "  <tbody>\n",
       "    <tr>\n",
       "      <th>0</th>\n",
       "      <td>4</td>\n",
       "      <td>fmzl</td>\n",
       "      <td>中国发明专利</td>\n",
       "      <td>False</td>\n",
       "      <td>0</td>\n",
       "      <td>1</td>\n",
       "      <td>平安银行股份有限公司</td>\n",
       "      <td>2010</td>\n",
       "    </tr>\n",
       "    <tr>\n",
       "      <th>1</th>\n",
       "      <td>1</td>\n",
       "      <td>syxx</td>\n",
       "      <td>中国实用新型</td>\n",
       "      <td>False</td>\n",
       "      <td>0</td>\n",
       "      <td>2</td>\n",
       "      <td>平安银行股份有限公司</td>\n",
       "      <td>2010</td>\n",
       "    </tr>\n",
       "    <tr>\n",
       "      <th>2</th>\n",
       "      <td>2</td>\n",
       "      <td>wgzl</td>\n",
       "      <td>中国外观专利</td>\n",
       "      <td>False</td>\n",
       "      <td>0</td>\n",
       "      <td>3</td>\n",
       "      <td>平安银行股份有限公司</td>\n",
       "      <td>2010</td>\n",
       "    </tr>\n",
       "    <tr>\n",
       "      <th>3</th>\n",
       "      <td>4</td>\n",
       "      <td>fmsq</td>\n",
       "      <td>中国发明授权</td>\n",
       "      <td>False</td>\n",
       "      <td>0</td>\n",
       "      <td>4</td>\n",
       "      <td>平安银行股份有限公司</td>\n",
       "      <td>2010</td>\n",
       "    </tr>\n",
       "  </tbody>\n",
       "</table>\n",
       "</div>"
      ],
      "text/plain": [
       "   Count Database  DbName Display  Group  Sort       stknm  year\n",
       "0      4     fmzl  中国发明专利   False      0     1  平安银行股份有限公司  2010\n",
       "1      1     syxx  中国实用新型   False      0     2  平安银行股份有限公司  2010\n",
       "2      2     wgzl  中国外观专利   False      0     3  平安银行股份有限公司  2010\n",
       "3      4     fmsq  中国发明授权   False      0     4  平安银行股份有限公司  2010"
      ]
     },
     "execution_count": 34,
     "metadata": {},
     "output_type": "execute_result"
    }
   ],
   "source": [
    "df_lst[0]"
   ]
  },
  {
   "cell_type": "code",
   "execution_count": 36,
   "metadata": {
    "collapsed": false
   },
   "outputs": [
    {
     "data": {
      "text/plain": [
       "14"
      ]
     },
     "execution_count": 36,
     "metadata": {},
     "output_type": "execute_result"
    }
   ],
   "source": [
    "len(df_lst)"
   ]
  },
  {
   "cell_type": "code",
   "execution_count": 39,
   "metadata": {
    "collapsed": false
   },
   "outputs": [
    {
     "name": "stdout",
     "output_type": "stream",
     "text": [
      "   Count Database  DbName Display  Group  Sort       stknm  year\n",
      "0      4     fmzl  中国发明专利   False      0     1  平安银行股份有限公司  2010\n",
      "1      1     syxx  中国实用新型   False      0     2  平安银行股份有限公司  2010\n",
      "2      2     wgzl  中国外观专利   False      0     3  平安银行股份有限公司  2010\n",
      "3      4     fmsq  中国发明授权   False      0     4  平安银行股份有限公司  2010\n",
      "   Count Database  DbName Display  Group  Sort       stknm  year\n",
      "0      2     fmzl  中国发明专利   False      0     1  平安银行股份有限公司  2011\n",
      "1      5     syxx  中国实用新型   False      0     2  平安银行股份有限公司  2011\n",
      "2      0     wgzl  中国外观专利   False      0     3  平安银行股份有限公司  2011\n",
      "3      2     fmsq  中国发明授权   False      0     4  平安银行股份有限公司  2011\n",
      "   Count Database  DbName Display  Group  Sort       stknm  year\n",
      "0      2     fmzl  中国发明专利   False      0     1  平安银行股份有限公司  2012\n",
      "1      6     syxx  中国实用新型   False      0     2  平安银行股份有限公司  2012\n",
      "2      0     wgzl  中国外观专利   False      0     3  平安银行股份有限公司  2012\n",
      "3      2     fmsq  中国发明授权   False      0     4  平安银行股份有限公司  2012\n",
      "   Count Database  DbName Display  Group  Sort       stknm  year\n",
      "0      2     fmzl  中国发明专利   False      0     1  平安银行股份有限公司  2013\n",
      "1      5     syxx  中国实用新型   False      0     2  平安银行股份有限公司  2013\n",
      "2      0     wgzl  中国外观专利   False      0     3  平安银行股份有限公司  2013\n",
      "3      1     fmsq  中国发明授权   False      0     4  平安银行股份有限公司  2013\n",
      "   Count Database  DbName Display  Group  Sort       stknm  year\n",
      "0      0     fmzl  中国发明专利   False      0     1  平安银行股份有限公司  2014\n",
      "1     13     syxx  中国实用新型   False      0     2  平安银行股份有限公司  2014\n",
      "2      0     wgzl  中国外观专利   False      0     3  平安银行股份有限公司  2014\n",
      "3      0     fmsq  中国发明授权   False      0     4  平安银行股份有限公司  2014\n",
      "None\n",
      "   Count Database  DbName Display  Group  Sort       stknm  year\n",
      "0      0     fmzl  中国发明专利   False      0     1  平安银行股份有限公司  2016\n",
      "1      0     syxx  中国实用新型   False      0     2  平安银行股份有限公司  2016\n",
      "2      3     wgzl  中国外观专利   False      0     3  平安银行股份有限公司  2016\n",
      "3      0     fmsq  中国发明授权   False      0     4  平安银行股份有限公司  2016\n",
      "None\n",
      "None\n",
      "None\n",
      "None\n",
      "None\n",
      "None\n",
      "None\n"
     ]
    }
   ],
   "source": [
    "for item in df_lst:\n",
    "    print item"
   ]
  },
  {
   "cell_type": "code",
   "execution_count": null,
   "metadata": {
    "collapsed": true
   },
   "outputs": [],
   "source": [
    ""
   ]
  }
 ],
 "metadata": {
  "anaconda-cloud": {},
  "kernelspec": {
   "display_name": "Python [conda root]",
   "language": "python",
   "name": "conda-root-py"
  },
  "language_info": {
   "codemirror_mode": {
    "name": "ipython",
    "version": 2.0
   },
   "file_extension": ".py",
   "mimetype": "text/x-python",
   "name": "python",
   "nbconvert_exporter": "python",
   "pygments_lexer": "ipython2",
   "version": "2.7.12"
  }
 },
 "nbformat": 4,
 "nbformat_minor": 0
}